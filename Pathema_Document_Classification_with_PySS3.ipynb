{
  "nbformat": 4,
  "nbformat_minor": 0,
  "metadata": {
    "colab": {
      "name": "Pathema_Document_Classification_with_PySS3.ipynb",
      "provenance": [],
      "collapsed_sections": [],
      "authorship_tag": "ABX9TyO+b8J7YbXIx9LBgzMKG8Np",
      "include_colab_link": true
    },
    "kernelspec": {
      "name": "python3",
      "display_name": "Python 3"
    },
    "language_info": {
      "name": "python"
    }
  },
  "cells": [
    {
      "cell_type": "markdown",
      "metadata": {
        "id": "view-in-github",
        "colab_type": "text"
      },
      "source": [
        "<a href=\"https://colab.research.google.com/github/FaizanHameed1/Document-Classification-with-PySS3/blob/main/Pathema_Document_Classification_with_PySS3.ipynb\" target=\"_parent\"><img src=\"https://colab.research.google.com/assets/colab-badge.svg\" alt=\"Open In Colab\"/></a>"
      ]
    },
    {
      "cell_type": "code",
      "execution_count": 2,
      "metadata": {
        "colab": {
          "base_uri": "https://localhost:8080/"
        },
        "id": "GcoqymBPrmSz",
        "outputId": "0bb77c80-48f4-42c8-ba74-484c51c5a2be"
      },
      "outputs": [
        {
          "output_type": "stream",
          "name": "stdout",
          "text": [
            "Mounted at /content/drive\n"
          ]
        }
      ],
      "source": [
        "from google.colab import drive\n",
        "drive.mount('/content/drive')"
      ]
    },
    {
      "cell_type": "code",
      "source": [
        "import os\n",
        "os.getcwd()"
      ],
      "metadata": {
        "colab": {
          "base_uri": "https://localhost:8080/",
          "height": 35
        },
        "id": "HXo0GnBVsNfg",
        "outputId": "28a61b3c-72cf-4842-cb3e-d38a2fd0dab4"
      },
      "execution_count": 3,
      "outputs": [
        {
          "output_type": "execute_result",
          "data": {
            "application/vnd.google.colaboratory.intrinsic+json": {
              "type": "string"
            },
            "text/plain": [
              "'/content'"
            ]
          },
          "metadata": {},
          "execution_count": 3
        }
      ]
    },
    {
      "cell_type": "code",
      "source": [
        "#%cd '/content/drive/My Drive/Kaggle/'"
      ],
      "metadata": {
        "id": "V0vTs4NesOPD"
      },
      "execution_count": 4,
      "outputs": []
    },
    {
      "cell_type": "code",
      "source": [
        "#!mkdir pathema_ss3 #making new folder for preparing our data for PySS3 model"
      ],
      "metadata": {
        "id": "lroyse8kuovl"
      },
      "execution_count": 4,
      "outputs": []
    },
    {
      "cell_type": "code",
      "source": [
        "#%cd '/content/drive/My Drive/Kaggle/pathema_ss3/'"
      ],
      "metadata": {
        "id": "4g8rCTGHvI_w"
      },
      "execution_count": 5,
      "outputs": []
    },
    {
      "cell_type": "code",
      "source": [
        "#training dataset directory\n",
        "source_path='/content/drive/My Drive/Kaggle/pathema/'\n",
        "dest_path='/content/drive/My Drive/Kaggle/pathema_ss3/train/'"
      ],
      "metadata": {
        "id": "0bq0_89xsSzT"
      },
      "execution_count": 5,
      "outputs": []
    },
    {
      "cell_type": "code",
      "source": [
        "#making folders in our \"dest_path\"\n",
        "root_path = dest_path\n",
        "folders = ['Requisition Form','Patient Profile','Other','Lab Test','Cover Page','Consult Note','Clinical History And Summary','Admin Note']\n",
        "for folder in folders:\n",
        "    os.mkdir(os.path.join(root_path,folder))\n",
        "\n",
        "\n",
        "print(os.listdir(dest_path))"
      ],
      "metadata": {
        "colab": {
          "base_uri": "https://localhost:8080/"
        },
        "id": "lGSkhI3AwwwO",
        "outputId": "5f27c774-2369-47db-e3d9-8aa52380ce8a"
      },
      "execution_count": null,
      "outputs": [
        {
          "output_type": "stream",
          "name": "stdout",
          "text": [
            "['Requisition Form', 'Patient Profile ', 'Other', 'Lab Test', 'Cover Page', 'Consult Note', 'Clinical History And Summary', 'Admin Note']\n"
          ]
        }
      ]
    },
    {
      "cell_type": "code",
      "source": [
        "! sudo apt install tesseract-ocr\n",
        "! pip install pytesseract"
      ],
      "metadata": {
        "id": "T-ji4g9t4Qqz",
        "colab": {
          "base_uri": "https://localhost:8080/"
        },
        "outputId": "a226a90a-1f06-4111-ab4e-5fc544c243b0"
      },
      "execution_count": 6,
      "outputs": [
        {
          "output_type": "stream",
          "name": "stdout",
          "text": [
            "Reading package lists... Done\n",
            "Building dependency tree       \n",
            "Reading state information... Done\n",
            "The following additional packages will be installed:\n",
            "  tesseract-ocr-eng tesseract-ocr-osd\n",
            "The following NEW packages will be installed:\n",
            "  tesseract-ocr tesseract-ocr-eng tesseract-ocr-osd\n",
            "0 upgraded, 3 newly installed, 0 to remove and 37 not upgraded.\n",
            "Need to get 4,795 kB of archives.\n",
            "After this operation, 15.8 MB of additional disk space will be used.\n",
            "Get:1 http://archive.ubuntu.com/ubuntu bionic/universe amd64 tesseract-ocr-eng all 4.00~git24-0e00fe6-1.2 [1,588 kB]\n",
            "Get:2 http://archive.ubuntu.com/ubuntu bionic/universe amd64 tesseract-ocr-osd all 4.00~git24-0e00fe6-1.2 [2,989 kB]\n",
            "Get:3 http://archive.ubuntu.com/ubuntu bionic/universe amd64 tesseract-ocr amd64 4.00~git2288-10f4998a-2 [218 kB]\n",
            "Fetched 4,795 kB in 2s (2,948 kB/s)\n",
            "debconf: unable to initialize frontend: Dialog\n",
            "debconf: (No usable dialog-like program is installed, so the dialog based frontend cannot be used. at /usr/share/perl5/Debconf/FrontEnd/Dialog.pm line 76, <> line 3.)\n",
            "debconf: falling back to frontend: Readline\n",
            "debconf: unable to initialize frontend: Readline\n",
            "debconf: (This frontend requires a controlling tty.)\n",
            "debconf: falling back to frontend: Teletype\n",
            "dpkg-preconfigure: unable to re-open stdin: \n",
            "Selecting previously unselected package tesseract-ocr-eng.\n",
            "(Reading database ... 155222 files and directories currently installed.)\n",
            "Preparing to unpack .../tesseract-ocr-eng_4.00~git24-0e00fe6-1.2_all.deb ...\n",
            "Unpacking tesseract-ocr-eng (4.00~git24-0e00fe6-1.2) ...\n",
            "Selecting previously unselected package tesseract-ocr-osd.\n",
            "Preparing to unpack .../tesseract-ocr-osd_4.00~git24-0e00fe6-1.2_all.deb ...\n",
            "Unpacking tesseract-ocr-osd (4.00~git24-0e00fe6-1.2) ...\n",
            "Selecting previously unselected package tesseract-ocr.\n",
            "Preparing to unpack .../tesseract-ocr_4.00~git2288-10f4998a-2_amd64.deb ...\n",
            "Unpacking tesseract-ocr (4.00~git2288-10f4998a-2) ...\n",
            "Setting up tesseract-ocr-osd (4.00~git24-0e00fe6-1.2) ...\n",
            "Setting up tesseract-ocr-eng (4.00~git24-0e00fe6-1.2) ...\n",
            "Setting up tesseract-ocr (4.00~git2288-10f4998a-2) ...\n",
            "Processing triggers for man-db (2.8.3-2ubuntu0.1) ...\n",
            "Collecting pytesseract\n",
            "  Downloading pytesseract-0.3.8.tar.gz (14 kB)\n",
            "Requirement already satisfied: Pillow in /usr/local/lib/python3.7/dist-packages (from pytesseract) (7.1.2)\n",
            "Building wheels for collected packages: pytesseract\n",
            "  Building wheel for pytesseract (setup.py) ... \u001b[?25l\u001b[?25hdone\n",
            "  Created wheel for pytesseract: filename=pytesseract-0.3.8-py2.py3-none-any.whl size=14072 sha256=b3bcd5ba71b9dccd32ad31b0ed83f13d6176b5eb2a6947c851be80bc894f9fb2\n",
            "  Stored in directory: /root/.cache/pip/wheels/a4/89/b9/3f11250225d0f90e5454fcc30fd1b7208db226850715aa9ace\n",
            "Successfully built pytesseract\n",
            "Installing collected packages: pytesseract\n",
            "Successfully installed pytesseract-0.3.8\n"
          ]
        }
      ]
    },
    {
      "cell_type": "code",
      "source": [
        "import pytesseract\n",
        "import numpy as np\n",
        "\n",
        "#to extract text from the document we are applying OCR to each document\n",
        "def apply_ocr(sample):\n",
        "\n",
        "        # apply ocr to the image\n",
        "        #Extracting words and bounding boxes from images\n",
        "        ocr_dframe = pytesseract.image_to_data(sample, output_type='data.frame')\n",
        "        #return a subset of the DataFrame's columns based on the column dtypes.\n",
        "        float_cols = ocr_dframe.select_dtypes('float').columns\n",
        "        #dropping the rows where atleast one element is not present(i.e \"text\" is not present)\n",
        "        ocr_dframe = ocr_dframe.dropna().reset_index(drop=True)\n",
        "        #selecting float_cols,round along zero,changing type to integer\n",
        "        ocr_dframe[float_cols] = ocr_dframe[float_cols].round(0).astype(int)\n",
        "        #replace field that's entirely space (or empty) with NaN check https://stackoverflow.com/questions/13445241/replacing-blank-values-white-space-with-nan-in-pandas\n",
        "        ocr_dframe = ocr_dframe.replace(r'^\\s*$', np.nan, regex=True)\n",
        "        #dropping the rows where atleast one element is not present(i.e \"text\" is not present)\n",
        "        ocr_dframe = ocr_dframe.dropna().reset_index(drop=True)\n",
        "\n",
        "        # get the words and actual (unnormalized) bounding boxes\n",
        "        #words = [word for word in ocr_dframe.text if str(word) != 'nan'])\n",
        "        words = list(ocr_dframe.text)#making the list of column \"text\" in 'ocr_dframe' dataframe\n",
        "        #words = [str(w) for w in words] #converting into list of string of words from the last words list \n",
        "\n",
        "        #making a list of words in the image\n",
        "        image_words=[]\n",
        "        for word in words:\n",
        "          if str(word)!=\"nan\":\n",
        "            image_words.append(str(word))\n",
        "\n",
        "      \n",
        "        #joining words with space\n",
        "        words= \" \".join(image_words)\n",
        "        return words"
      ],
      "metadata": {
        "id": "XikcfGyYzawV"
      },
      "execution_count": null,
      "outputs": []
    },
    {
      "cell_type": "code",
      "source": [
        "from PIL import Image\n",
        "#getting image file directory\n",
        "#image_path=[]\n",
        "for folder in os.listdir(source_path):\n",
        "  folder_path=os.path.join(source_path,folder)\n",
        "  for files in os.listdir(folder_path):\n",
        "    f_path=os.path.join(folder_path,files)#path of image\n",
        "    image = Image.open(f_path)\n",
        "    image = image.convert(\"RGB\")\n",
        "    para=apply_ocr(image) #getting words from image\n",
        "    \n",
        "    #making directory to save the files with same file and folder name\n",
        "    #if files.endswith((\".png\", \".jpg\")):\n",
        "    #  txt_name=files.strip\n",
        "\n",
        "    txt_file=os.path.splitext(files)[0] + \".txt\" #making same name of file as image\n",
        "    txt_path=os.path.join(dest_path,os.path.join(folder,txt_file))\n",
        "    #writing and saving file\n",
        "    with open(txt_path, \"w\") as file:\n",
        "      file.write(para)\n",
        "    #print(files)\n",
        "\n",
        "    #image_path.append(f_path)\n",
        "\n",
        "#print(image_path)"
      ],
      "metadata": {
        "id": "nu8iMCgssfG-"
      },
      "execution_count": null,
      "outputs": []
    },
    {
      "cell_type": "code",
      "source": [
        "#File extraction\n",
        "#import os, zipfile\n",
        "\n",
        "#dir_name = '/content/'\n",
        "#extension = \".zip\"\n",
        "\n",
        "#os.chdir(dir_name) # change directory from working dir to dir with files\n",
        "\n",
        "#for item in os.listdir(dir_name): # loop through items in dir\n",
        "#    if item.endswith(extension): # check for \".zip\" extension\n",
        "#        file_name = os.path.abspath(item) # get full path of files\n",
        "#        zip_ref = zipfile.ZipFile(file_name) # create zipfile object\n",
        "#        zip_ref.extractall(dir_name) # extract file to dir\n",
        "#        zip_ref.close() # close file\n",
        "#        os.remove(file_name) # delete zipped file"
      ],
      "metadata": {
        "id": "cwadGr9XW1IE"
      },
      "execution_count": null,
      "outputs": []
    },
    {
      "cell_type": "code",
      "source": [
        "##test dataset directory\n",
        "test_source=\"/content/Pathema\"\n",
        "test_dest='/content/drive/My Drive/Kaggle/pathema_ss3/test/'"
      ],
      "metadata": {
        "id": "BSOXfmhB8NSn"
      },
      "execution_count": 7,
      "outputs": []
    },
    {
      "cell_type": "code",
      "source": [
        "#creating folders in \"test_dest\" to copy files\n",
        "\n",
        "root_path = test_dest\n",
        "folders = ['Requisition Form','Patient Profile','Other','Lab Test','Cover Page','Consult Note','Clinical History And Summary','Admin Note']\n",
        "for folder in folders:\n",
        "    os.mkdir(os.path.join(root_path,folder))\n",
        "\n",
        "\n",
        "print(os.listdir(test_dest))"
      ],
      "metadata": {
        "colab": {
          "base_uri": "https://localhost:8080/"
        },
        "id": "K2Lj6MRd8hXF",
        "outputId": "e0c2db37-7a5d-4ebc-8992-558c0ea64566"
      },
      "execution_count": null,
      "outputs": [
        {
          "output_type": "stream",
          "name": "stdout",
          "text": [
            "['Requisition Form', 'Patient Profile', 'Other', 'Lab Test', 'Cover Page', 'Consult Note', 'Clinical History And Summary', 'Admin Note']\n"
          ]
        }
      ]
    },
    {
      "cell_type": "code",
      "source": [
        "#Creating text files from document's text\n",
        "#image_path=[]\n",
        "for folder in os.listdir(test_source):\n",
        "  folder_path=os.path.join(test_source,folder)\n",
        "  for files in os.listdir(folder_path):\n",
        "    f_path=os.path.join(folder_path,files)#path of image\n",
        "    image = Image.open(f_path)\n",
        "    image = image.convert(\"RGB\")\n",
        "    para=apply_ocr(image) #getting words from image\n",
        "    \n",
        "    #making directory to save the files with same file and folder name\n",
        "    #if files.endswith((\".png\", \".jpg\")):\n",
        "    #  txt_name=files.strip\n",
        "\n",
        "    txt_file=os.path.splitext(files)[0] + \".txt\" #making same name of file as image\n",
        "    txt_path=os.path.join(test_dest,os.path.join(folder,txt_file))\n",
        "    #writing and saving file\n",
        "    with open(txt_path, \"w\") as file:\n",
        "      file.write(para)\n",
        "    #print(files)\n",
        "\n",
        "    #image_path.append(f_path)\n",
        "\n",
        "#print(image_path)"
      ],
      "metadata": {
        "id": "lDE2_iWsZI3h"
      },
      "execution_count": null,
      "outputs": []
    },
    {
      "cell_type": "code",
      "source": [
        "!pip install pyss3"
      ],
      "metadata": {
        "colab": {
          "base_uri": "https://localhost:8080/"
        },
        "id": "t_bSpJZ1iOwc",
        "outputId": "41ac11d3-d5f1-4a88-c89b-144c160393d1"
      },
      "execution_count": 8,
      "outputs": [
        {
          "output_type": "stream",
          "name": "stdout",
          "text": [
            "Collecting pyss3\n",
            "  Downloading pyss3-0.6.4-py3-none-any.whl (2.0 MB)\n",
            "\u001b[K     |████████████████████████████████| 2.0 MB 7.4 MB/s \n",
            "\u001b[?25hCollecting iterative-stratification\n",
            "  Downloading iterative_stratification-0.1.7-py3-none-any.whl (8.5 kB)\n",
            "Requirement already satisfied: tqdm>=4.8.4 in /usr/local/lib/python3.7/dist-packages (from pyss3) (4.62.3)\n",
            "Requirement already satisfied: cython in /usr/local/lib/python3.7/dist-packages (from pyss3) (0.29.24)\n",
            "Requirement already satisfied: six in /usr/local/lib/python3.7/dist-packages (from pyss3) (1.15.0)\n",
            "Requirement already satisfied: scikit-learn[alldeps]>=0.20 in /usr/local/lib/python3.7/dist-packages (from pyss3) (1.0.1)\n",
            "Requirement already satisfied: matplotlib in /usr/local/lib/python3.7/dist-packages (from pyss3) (3.2.2)\n",
            "\u001b[33mWARNING: scikit-learn 1.0.1 does not provide the extra 'alldeps'\u001b[0m\n",
            "Requirement already satisfied: threadpoolctl>=2.0.0 in /usr/local/lib/python3.7/dist-packages (from scikit-learn[alldeps]>=0.20->pyss3) (3.0.0)\n",
            "Requirement already satisfied: numpy>=1.14.6 in /usr/local/lib/python3.7/dist-packages (from scikit-learn[alldeps]>=0.20->pyss3) (1.19.5)\n",
            "Requirement already satisfied: scipy>=1.1.0 in /usr/local/lib/python3.7/dist-packages (from scikit-learn[alldeps]>=0.20->pyss3) (1.4.1)\n",
            "Requirement already satisfied: joblib>=0.11 in /usr/local/lib/python3.7/dist-packages (from scikit-learn[alldeps]>=0.20->pyss3) (1.1.0)\n",
            "Requirement already satisfied: pyparsing!=2.0.4,!=2.1.2,!=2.1.6,>=2.0.1 in /usr/local/lib/python3.7/dist-packages (from matplotlib->pyss3) (3.0.6)\n",
            "Requirement already satisfied: kiwisolver>=1.0.1 in /usr/local/lib/python3.7/dist-packages (from matplotlib->pyss3) (1.3.2)\n",
            "Requirement already satisfied: cycler>=0.10 in /usr/local/lib/python3.7/dist-packages (from matplotlib->pyss3) (0.11.0)\n",
            "Requirement already satisfied: python-dateutil>=2.1 in /usr/local/lib/python3.7/dist-packages (from matplotlib->pyss3) (2.8.2)\n",
            "Installing collected packages: iterative-stratification, pyss3\n",
            "Successfully installed iterative-stratification-0.1.7 pyss3-0.6.4\n"
          ]
        }
      ]
    },
    {
      "cell_type": "code",
      "source": [
        "%matplotlib inline\n",
        "import re\n",
        "\n",
        "from pyss3 import SS3\n",
        "from pyss3.util import Dataset, Evaluation, span\n",
        "from pyss3.server import Live_Test\n",
        "\n",
        "from sklearn.metrics import accuracy_score\n",
        "from nltk.stem import SnowballStemmer"
      ],
      "metadata": {
        "id": "7R7rt0lgbcXT"
      },
      "execution_count": 9,
      "outputs": []
    },
    {
      "cell_type": "code",
      "source": [
        "#defining functions for preprocessing text\n",
        "stemmer = SnowballStemmer('english')\n",
        "\n",
        "def stem(match):\n",
        "    return stemmer.stem(match.group(0))\n",
        "\n",
        "def my_preprocessing(text):\n",
        "    # replace each word (\\w+) with its stemmed version\n",
        "    return re.sub(r\"\\w+\", stem, text)"
      ],
      "metadata": {
        "id": "iOP6jovhbwBp"
      },
      "execution_count": 10,
      "outputs": []
    },
    {
      "cell_type": "code",
      "source": [
        "print(dest_path)\n",
        "print(test_dest)"
      ],
      "metadata": {
        "colab": {
          "base_uri": "https://localhost:8080/"
        },
        "id": "iS83-0FripSr",
        "outputId": "b95eba7d-de7b-4b91-c72b-01c56722153c"
      },
      "execution_count": 11,
      "outputs": [
        {
          "output_type": "stream",
          "name": "stdout",
          "text": [
            "/content/drive/My Drive/Kaggle/pathema_ss3/train/\n",
            "/content/drive/My Drive/Kaggle/pathema_ss3/test/\n"
          ]
        }
      ]
    },
    {
      "cell_type": "code",
      "source": [
        "#loading train and test data\n",
        "x_train, y_train = Dataset.load_from_files(dest_path)\n",
        "x_test, y_test = Dataset.load_from_files(test_dest)"
      ],
      "metadata": {
        "colab": {
          "base_uri": "https://localhost:8080/"
        },
        "id": "B-ACQy48cA4l",
        "outputId": "e6f59447-a517-458f-b770-88a8c96acc79"
      },
      "execution_count": 12,
      "outputs": [
        {
          "output_type": "stream",
          "name": "stderr",
          "text": [
            "[8/8] Loading 'Patient Profile' documents: 100%|██████████| 47/47 [00:14<00:00,  3.16it/s]\n",
            "[8/8] Loading 'Admin Note' documents: 100%|██████████| 34/34 [00:10<00:00,  3.11it/s]\n"
          ]
        }
      ]
    },
    {
      "cell_type": "code",
      "source": [
        "#preprocessing the data(for further details check https://pyss3.readthedocs.io/en/latest/tutorials/custom-preprocessing.html)\n",
        "x_train_prep = [my_preprocessing(doc) for doc in x_train]\n",
        "x_test_prep = [my_preprocessing(doc) for doc in x_test]"
      ],
      "metadata": {
        "id": "_6o-FgAvc3lh"
      },
      "execution_count": 13,
      "outputs": []
    },
    {
      "cell_type": "code",
      "source": [
        "#default hypermaters\n",
        "clf = SS3()\n",
        "s, l, p, _ = clf.get_hyperparameters()\n",
        "\n",
        "print(\"Smoothness(s):\", s)\n",
        "print(\"Significance(l):\", l)\n",
        "print(\"Sanction(p):\", p)"
      ],
      "metadata": {
        "colab": {
          "base_uri": "https://localhost:8080/"
        },
        "id": "eJtDHu1vfefj",
        "outputId": "384316b4-a1d8-4dfc-f67e-3bf7c940ad09"
      },
      "execution_count": 14,
      "outputs": [
        {
          "output_type": "stream",
          "name": "stdout",
          "text": [
            "Smoothness(s): 0.45\n",
            "Significance(l): 0.5\n",
            "Sanction(p): 1\n"
          ]
        }
      ]
    },
    {
      "cell_type": "code",
      "source": [
        "#using default hyperparameters\n",
        "clf = SS3(s=.45, l=.5, p=.1)\n",
        "\n",
        "# Let the training begin!\n",
        "clf.train(x_train_prep, y_train, n_grams=3, prep=False)#details on https://pyss3.readthedocs.io/en/latest/tutorials/custom-preprocessing.html)"
      ],
      "metadata": {
        "colab": {
          "base_uri": "https://localhost:8080/"
        },
        "id": "ZjCmUQA4dCGZ",
        "outputId": "9cc5c4fb-195b-4c92-8a23-a55e23bea5e2"
      },
      "execution_count": 15,
      "outputs": [
        {
          "output_type": "stream",
          "name": "stderr",
          "text": [
            "Training on 'Requisition Form': 100%|██████████| 8/8 [00:00<00:00, 10.14it/s]\n"
          ]
        }
      ]
    },
    {
      "cell_type": "code",
      "source": [
        "#checking model performance on test data(without preprocessing)\n",
        "y_pred = clf.predict(x_test)\n",
        "\n",
        "accuracy = accuracy_score(y_pred, y_test)\n",
        "\n",
        "print(\"Accuracy was:\", accuracy)"
      ],
      "metadata": {
        "colab": {
          "base_uri": "https://localhost:8080/"
        },
        "id": "Yf3qQoy0dVxQ",
        "outputId": "d02475b2-a11f-435e-e05b-7b88eb037349"
      },
      "execution_count": 16,
      "outputs": [
        {
          "output_type": "stream",
          "name": "stderr",
          "text": [
            "Classification: 100%|██████████| 255/255 [00:05<00:00, 50.94it/s]"
          ]
        },
        {
          "output_type": "stream",
          "name": "stdout",
          "text": [
            "Accuracy was: 0.6823529411764706\n"
          ]
        },
        {
          "output_type": "stream",
          "name": "stderr",
          "text": [
            "\n"
          ]
        }
      ]
    },
    {
      "cell_type": "code",
      "source": [
        "#checking model performance on test data(with preprocessed text)\n",
        "y_pred = clf.predict(x_test_prep, prep=False)\n",
        "\n",
        "accuracy = accuracy_score(y_pred, y_test)\n",
        "\n",
        "print(\"Accuracy was:\", accuracy)"
      ],
      "metadata": {
        "colab": {
          "base_uri": "https://localhost:8080/"
        },
        "id": "rsLTTT9x9RVC",
        "outputId": "dd5d7847-b6e8-4944-ac11-1ea42f09a857"
      },
      "execution_count": 17,
      "outputs": [
        {
          "output_type": "stream",
          "name": "stderr",
          "text": [
            "Classification: 100%|██████████| 255/255 [00:05<00:00, 49.61it/s]"
          ]
        },
        {
          "output_type": "stream",
          "name": "stdout",
          "text": [
            "Accuracy was: 0.6666666666666666\n"
          ]
        },
        {
          "output_type": "stream",
          "name": "stderr",
          "text": [
            "\n"
          ]
        }
      ]
    },
    {
      "cell_type": "code",
      "source": [
        "#classification report & Confusion Matrix\n",
        "Evaluation.test(clf, x_test_prep, y_test)"
      ],
      "metadata": {
        "colab": {
          "base_uri": "https://localhost:8080/",
          "height": 954
        },
        "id": "eEdS2hN1gGoT",
        "outputId": "37c2677d-973a-4347-b6cb-a29016316ca1"
      },
      "execution_count": 18,
      "outputs": [
        {
          "output_type": "stream",
          "name": "stderr",
          "text": [
            "Classification: 100%|██████████| 255/255 [00:05<00:00, 48.74it/s]\n"
          ]
        },
        {
          "output_type": "stream",
          "name": "stdout",
          "text": [
            "\n",
            "                              precision    recall  f1-score   support\n",
            "\n",
            "                  Admin Note       0.92      0.65      0.76        34\n",
            "Clinical History And Summary       0.25      0.07      0.11        41\n",
            "                Consult Note       0.68      0.95      0.79       125\n",
            "                  Cover Page       0.81      0.92      0.86        24\n",
            "                    Lab Test       0.18      0.25      0.21         8\n",
            "                       Other       0.00      0.00      0.00        16\n",
            "             Patient Profile       0.60      0.75      0.67         4\n",
            "            Requisition Form       0.00      0.00      0.00         3\n",
            "\n",
            "                    accuracy                           0.67       255\n",
            "                   macro avg       0.43      0.45      0.43       255\n",
            "                weighted avg       0.59      0.67      0.61       255\n",
            "\n",
            "\n",
            " \u001b[1mAccuracy\u001b[0m: 0.671\n",
            "\n",
            "\u001b[94m[ updating evaluations cache ]\u001b[0m\n"
          ]
        },
        {
          "output_type": "display_data",
          "data": {
            "image/png": "[encoded data removed]",
            "text/plain": [
              "<Figure size 576x576 with 2 Axes>"
            ]
          },
          "metadata": {
            "needs_background": "light"
          }
        },
        {
          "output_type": "execute_result",
          "data": {
            "text/plain": [
              "0.6705882352941176"
            ]
          },
          "metadata": {},
          "execution_count": 18
        }
      ]
    },
    {
      "cell_type": "code",
      "source": [
        "###########Optimizing hyperparameters###########"
      ],
      "metadata": {
        "id": "fonLh8vTeF9Z"
      },
      "execution_count": 19,
      "outputs": []
    },
    {
      "cell_type": "code",
      "source": [
        "clf = SS3(name=\"Doc_class\")\n",
        "\n",
        "# to speed up the process, we won't use 3-gram but single words\n",
        "# (i.e. we won't use the n_grams=3 argument)\n",
        "clf.train(x_train_prep, y_train, prep=False)"
      ],
      "metadata": {
        "colab": {
          "base_uri": "https://localhost:8080/"
        },
        "id": "kCgZn09-erUR",
        "outputId": "f7bbca7c-6e82-4e83-c038-47a3f3119d40"
      },
      "execution_count": 20,
      "outputs": [
        {
          "output_type": "stream",
          "name": "stderr",
          "text": [
            "Training on 'Requisition Form': 100%|██████████| 8/8 [00:00<00:00, 14.66it/s]\n"
          ]
        }
      ]
    },
    {
      "cell_type": "code",
      "source": [
        "#searching best hyperparameters\n",
        "best_s, best_l, best_p, best_a = Evaluation.grid_search(\n",
        "    clf, x_test_prep, y_test,\n",
        "    s=span(0.2, 0.8, 6),\n",
        "    l=span(0.1, 2, 6),\n",
        "    p=span(0.5, 2, 6),\n",
        "    a=[0, .1, .2],\n",
        "    prep=False,  # <- do not forget to disable default preprocessing\n",
        "    tag=\"grid search (test)\"\n",
        ")\n",
        "\n",
        "print(\"The hyperparameter values that obtained the best Accuracy are:\")\n",
        "print(\"Smoothness(s):\", best_s)\n",
        "print(\"Significance(l):\", best_l)\n",
        "print(\"Sanction(p):\", best_p)\n",
        "print(\"Alpha(a):\", best_a)\n",
        "\n",
        "Evaluation.plot()"
      ],
      "metadata": {
        "colab": {
          "base_uri": "https://localhost:8080/"
        },
        "id": "G-O9UuwIekmV",
        "outputId": "7180a0b8-fdff-412e-eda5-0e20645a1a45"
      },
      "execution_count": 21,
      "outputs": [
        {
          "output_type": "stream",
          "name": "stderr",
          "text": [
            "Grid search: 100%|██████████| 648/648 [02:39<00:00,  4.06it/s]\n"
          ]
        },
        {
          "output_type": "stream",
          "name": "stdout",
          "text": [
            "The hyperparameter values that obtained the best Accuracy are:\n",
            "Smoothness(s): 0.32\n",
            "Significance(l): 1.24\n",
            "Sanction(p): 0.8\n",
            "Alpha(a): 0.0\n"
          ]
        },
        {
          "output_type": "execute_result",
          "data": {
            "text/plain": [
              "True"
            ]
          },
          "metadata": {},
          "execution_count": 21
        }
      ]
    },
    {
      "cell_type": "code",
      "source": [
        "#with optimized hyperparameters\n",
        "clf.set_hyperparameters(0.32, 1.24, 0.8, 0.0)\n",
        "y_pred = clf.predict(x_test_prep, prep=False)\n",
        "\n",
        "accuracy = accuracy_score(y_pred, y_test)\n",
        "print(\"Accuracy was:\", accuracy)"
      ],
      "metadata": {
        "colab": {
          "base_uri": "https://localhost:8080/"
        },
        "id": "egGLE1NrexSu",
        "outputId": "a62d805d-9513-402a-a4d1-e15395449d7c"
      },
      "execution_count": 22,
      "outputs": [
        {
          "output_type": "stream",
          "name": "stderr",
          "text": [
            "Classification: 100%|██████████| 255/255 [00:00<00:00, 15195.24it/s]"
          ]
        },
        {
          "output_type": "stream",
          "name": "stdout",
          "text": [
            "Accuracy was: 0.7176470588235294\n"
          ]
        },
        {
          "output_type": "stream",
          "name": "stderr",
          "text": [
            "\n"
          ]
        }
      ]
    },
    {
      "cell_type": "code",
      "source": [
        "#training 3gram version with same(optimized) hyperparaeters\n",
        "clf = SS3(0.32, 1.24, 0.8, 0.0, name=\"Doc_class\")\n",
        "\n",
        "clf.train(x_train_prep, y_train, n_grams=3, prep=False)"
      ],
      "metadata": {
        "colab": {
          "base_uri": "https://localhost:8080/"
        },
        "id": "qtoccZQRe9Np",
        "outputId": "fe42f784-866e-48bf-eb76-4751a2d4f277"
      },
      "execution_count": 23,
      "outputs": [
        {
          "output_type": "stream",
          "name": "stderr",
          "text": [
            "Training on 'Requisition Form': 100%|██████████| 8/8 [00:00<00:00,  9.18it/s]\n"
          ]
        }
      ]
    },
    {
      "cell_type": "code",
      "source": [
        "y_pred = clf.predict(x_test_prep, prep=False)\n",
        "\n",
        "accuracy = accuracy_score(y_pred, y_test)\n",
        "print(\"Accuracy was:\", accuracy)"
      ],
      "metadata": {
        "colab": {
          "base_uri": "https://localhost:8080/"
        },
        "id": "jsro_fwqfIxc",
        "outputId": "7ac3e52c-b9a4-47c6-f8f8-c7b5f4b44a8f"
      },
      "execution_count": 24,
      "outputs": [
        {
          "output_type": "stream",
          "name": "stderr",
          "text": [
            "Classification: 100%|██████████| 255/255 [00:05<00:00, 50.87it/s]"
          ]
        },
        {
          "output_type": "stream",
          "name": "stdout",
          "text": [
            "Accuracy was: 0.6980392156862745\n"
          ]
        },
        {
          "output_type": "stream",
          "name": "stderr",
          "text": [
            "\n"
          ]
        }
      ]
    },
    {
      "cell_type": "code",
      "source": [
        "#classification report & Confusion Matrix\n",
        "Evaluation.test(clf, x_test_prep, y_test)"
      ],
      "metadata": {
        "id": "UtUtX7lFfJaZ",
        "colab": {
          "base_uri": "https://localhost:8080/",
          "height": 954
        },
        "outputId": "99584175-cd7c-4e4c-cb08-111f1b70c157"
      },
      "execution_count": 25,
      "outputs": [
        {
          "output_type": "stream",
          "name": "stderr",
          "text": [
            "Classification: 100%|██████████| 255/255 [00:07<00:00, 34.88it/s]\n"
          ]
        },
        {
          "output_type": "stream",
          "name": "stdout",
          "text": [
            "\n",
            "                              precision    recall  f1-score   support\n",
            "\n",
            "                  Admin Note       1.00      0.79      0.89        34\n",
            "Clinical History And Summary       0.30      0.15      0.20        41\n",
            "                Consult Note       0.71      0.90      0.80       125\n",
            "                  Cover Page       0.69      1.00      0.81        24\n",
            "                    Lab Test       1.00      0.25      0.40         8\n",
            "                       Other       1.00      0.12      0.22        16\n",
            "             Patient Profile       0.43      0.75      0.55         4\n",
            "            Requisition Form       0.00      0.00      0.00         3\n",
            "\n",
            "                    accuracy                           0.69       255\n",
            "                   macro avg       0.64      0.50      0.48       255\n",
            "                weighted avg       0.70      0.69      0.65       255\n",
            "\n",
            "\n",
            " \u001b[1mAccuracy\u001b[0m: 0.694\n",
            "\n",
            "\u001b[94m[ updating evaluations cache ]\u001b[0m\n"
          ]
        },
        {
          "output_type": "display_data",
          "data": {
            "image/png": "[encoded data removed]",
            "text/plain": [
              "<Figure size 576x576 with 2 Axes>"
            ]
          },
          "metadata": {
            "needs_background": "light"
          }
        },
        {
          "output_type": "execute_result",
          "data": {
            "text/plain": [
              "0.6941176470588235"
            ]
          },
          "metadata": {},
          "execution_count": 25
        }
      ]
    }
  ]
}